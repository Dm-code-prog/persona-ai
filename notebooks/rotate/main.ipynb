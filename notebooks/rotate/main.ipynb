{
 "cells": [
  {
   "cell_type": "code",
   "id": "initial_id",
   "metadata": {
    "collapsed": true,
    "ExecuteTime": {
     "end_time": "2025-01-17T21:23:36.117048Z",
     "start_time": "2025-01-17T21:23:36.113023Z"
    }
   },
   "source": [
    "import os\n",
    "\n",
    "\n",
    "def recursively_list_dir(dir_path):\n",
    "    files = {}\n",
    "    for root, _, f in os.walk(dir_path):\n",
    "        files[root] = f\n",
    "    return files\n",
    "\n",
    "print(recursively_list_dir('input'))"
   ],
   "outputs": [
    {
     "name": "stdout",
     "output_type": "stream",
     "text": [
      "{'input': [], 'input/photos': ['noir.mp4', 'mayday.jpg']}\n"
     ]
    }
   ],
   "execution_count": 5
  }
 ],
 "metadata": {
  "kernelspec": {
   "display_name": "Python 3",
   "language": "python",
   "name": "python3"
  },
  "language_info": {
   "codemirror_mode": {
    "name": "ipython",
    "version": 2
   },
   "file_extension": ".py",
   "mimetype": "text/x-python",
   "name": "python",
   "nbconvert_exporter": "python",
   "pygments_lexer": "ipython2",
   "version": "2.7.6"
  }
 },
 "nbformat": 4,
 "nbformat_minor": 5
}
